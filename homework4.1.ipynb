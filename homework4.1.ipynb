{
 "cells": [
  {
   "cell_type": "code",
   "execution_count": 29,
   "metadata": {
    "collapsed": true
   },
   "outputs": [],
   "source": [
    "import pandas as pd\n",
    "\n",
    "import numpy as np\n",
    "\n",
    "import matplotlib.pyplot as plt\n",
    "\n",
    "%matplotlib inline\n"
   ]
  },
  {
   "cell_type": "code",
   "execution_count": 57,
   "metadata": {},
   "outputs": [],
   "source": [
    "PATH = 'names\\/'\n",
    "\n",
    "def count_top3(list_year):\n",
    "    names_by_year = {}\n",
    "    for year in list_year:\n",
    "        file_name =  PATH + 'yob' + str(year) + '.txt'\n",
    "        names_by_year[year] = pd.read_csv(file_name.format(year), names=['Name','Gender','Count'])\n",
    "    \n",
    "    names_all = pd.concat(names_by_year)\n",
    "    top_name = names_all.groupby('Name').sum().sort_values(by='Count', ascending=False).head(3)\n",
    "    return top_name\n",
    "        "
   ]
  },
  {
   "cell_type": "code",
   "execution_count": 74,
   "metadata": {
    "collapsed": true
   },
   "outputs": [],
   "source": [
    "def count_dynamics(list_year):\n",
    "    names_by_year = {}\n",
    "    for year in list_year:\n",
    "        file_name =  PATH + 'yob' + str(year) + '.txt'\n",
    "        names_by_year[year] = pd.read_csv(file_name.format(year), names=['Name','Gender','Count'])\n",
    "    \n",
    "    names_all = pd.concat(names_by_year, names=['Year', 'Pos'])\n",
    "    top_name = names_all.groupby([names_all.index.get_level_values(0), 'Gender']).sum()\n",
    "    return top_name"
   ]
  },
  {
   "cell_type": "code",
   "execution_count": 76,
   "metadata": {},
   "outputs": [
    {
     "name": "stdout",
     "output_type": "stream",
     "text": [
      "         Count\n",
      "Name          \n",
      "James   111795\n",
      "John    109595\n",
      "Robert  101381\n",
      "               Count\n",
      "Year Gender         \n",
      "1900 F        299810\n",
      "     M        150486\n",
      "1950 F       1713259\n",
      "     M       1790871\n",
      "2000 F       1814922\n",
      "     M       1962744\n"
     ]
    }
   ],
   "source": [
    "list_year = [1900, 1950, 2000]\n",
    "print(count_top3(list_year))\n",
    "print(count_dynamics(list_year))\n",
    "\n"
   ]
  },
  {
   "cell_type": "code",
   "execution_count": null,
   "metadata": {
    "collapsed": true
   },
   "outputs": [],
   "source": []
  }
 ],
 "metadata": {
  "kernelspec": {
   "display_name": "Python 3",
   "language": "python",
   "name": "python3"
  },
  "language_info": {
   "codemirror_mode": {
    "name": "ipython",
    "version": 3
   },
   "file_extension": ".py",
   "mimetype": "text/x-python",
   "name": "python",
   "nbconvert_exporter": "python",
   "pygments_lexer": "ipython3",
   "version": "3.6.1"
  }
 },
 "nbformat": 4,
 "nbformat_minor": 2
}
